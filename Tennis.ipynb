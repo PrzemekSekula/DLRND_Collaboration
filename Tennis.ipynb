{
 "cells": [
  {
   "cell_type": "markdown",
   "metadata": {},
   "source": [
    "# Collaboration and Competition\n",
    "\n",
    "---\n",
    "\n",
    "In this notebook, you will learn how to use the Unity ML-Agents environment for the third project of the [Deep Reinforcement Learning Nanodegree](https://www.udacity.com/course/deep-reinforcement-learning-nanodegree--nd893) program.\n",
    "\n",
    "### 1. Start the Environment\n",
    "\n",
    "We begin by importing the necessary packages.  If the code cell below returns an error, please revisit the project instructions to double-check that you have installed [Unity ML-Agents](https://github.com/Unity-Technologies/ml-agents/blob/master/docs/Installation.md) and [NumPy](http://www.numpy.org/)."
   ]
  },
  {
   "cell_type": "code",
   "execution_count": 1,
   "metadata": {},
   "outputs": [],
   "source": [
    "from unityagents import UnityEnvironment\n",
    "import numpy as np"
   ]
  },
  {
   "cell_type": "markdown",
   "metadata": {},
   "source": [
    "Next, we will start the environment!  **_Before running the code cell below_**, change the `file_name` parameter to match the location of the Unity environment that you downloaded.\n",
    "\n",
    "- **Mac**: `\"path/to/Tennis.app\"`\n",
    "- **Windows** (x86): `\"path/to/Tennis_Windows_x86/Tennis.exe\"`\n",
    "- **Windows** (x86_64): `\"path/to/Tennis_Windows_x86_64/Tennis.exe\"`\n",
    "- **Linux** (x86): `\"path/to/Tennis_Linux/Tennis.x86\"`\n",
    "- **Linux** (x86_64): `\"path/to/Tennis_Linux/Tennis.x86_64\"`\n",
    "- **Linux** (x86, headless): `\"path/to/Tennis_Linux_NoVis/Tennis.x86\"`\n",
    "- **Linux** (x86_64, headless): `\"path/to/Tennis_Linux_NoVis/Tennis.x86_64\"`\n",
    "\n",
    "For instance, if you are using a Mac, then you downloaded `Tennis.app`.  If this file is in the same folder as the notebook, then the line below should appear as follows:\n",
    "```\n",
    "env = UnityEnvironment(file_name=\"Tennis.app\")\n",
    "```"
   ]
  },
  {
   "cell_type": "code",
   "execution_count": 2,
   "metadata": {},
   "outputs": [
    {
     "name": "stderr",
     "output_type": "stream",
     "text": [
      "INFO:unityagents:\n",
      "'Academy' started successfully!\n",
      "Unity Academy name: Academy\n",
      "        Number of Brains: 1\n",
      "        Number of External Brains : 1\n",
      "        Lesson number : 0\n",
      "        Reset Parameters :\n",
      "\t\t\n",
      "Unity brain name: TennisBrain\n",
      "        Number of Visual Observations (per agent): 0\n",
      "        Vector Observation space type: continuous\n",
      "        Vector Observation space size (per agent): 8\n",
      "        Number of stacked Vector Observation: 3\n",
      "        Vector Action space type: continuous\n",
      "        Vector Action space size (per agent): 2\n",
      "        Vector Action descriptions: , \n"
     ]
    }
   ],
   "source": [
    "env = UnityEnvironment(file_name=\"./Tennis_Windows_x86_64/Tennis.exe\")"
   ]
  },
  {
   "cell_type": "markdown",
   "metadata": {},
   "source": [
    "Environments contain **_brains_** which are responsible for deciding the actions of their associated agents. Here we check for the first brain available, and set it as the default brain we will be controlling from Python."
   ]
  },
  {
   "cell_type": "code",
   "execution_count": 3,
   "metadata": {},
   "outputs": [],
   "source": [
    "# get the default brain\n",
    "brain_name = env.brain_names[0]\n",
    "brain = env.brains[brain_name]"
   ]
  },
  {
   "cell_type": "markdown",
   "metadata": {},
   "source": [
    "### 2. Examine the State and Action Spaces\n",
    "\n",
    "In this environment, two agents control rackets to bounce a ball over a net. If an agent hits the ball over the net, it receives a reward of +0.1.  If an agent lets a ball hit the ground or hits the ball out of bounds, it receives a reward of -0.01.  Thus, the goal of each agent is to keep the ball in play.\n",
    "\n",
    "The observation space consists of 8 variables corresponding to the position and velocity of the ball and racket. Two continuous actions are available, corresponding to movement toward (or away from) the net, and jumping. \n",
    "\n",
    "Run the code cell below to print some information about the environment."
   ]
  },
  {
   "cell_type": "code",
   "execution_count": 4,
   "metadata": {},
   "outputs": [
    {
     "name": "stdout",
     "output_type": "stream",
     "text": [
      "Number of agents: 2\n",
      "Size of each action: 2\n",
      "There are 2 agents. Each observes a state with length: 24\n",
      "The state for the first agent looks like: [ 0.          0.          0.          0.          0.          0.\n",
      "  0.          0.          0.          0.          0.          0.\n",
      "  0.          0.          0.          0.         -6.65278625 -1.5\n",
      " -0.          0.          6.83172083  6.         -0.          0.        ]\n"
     ]
    }
   ],
   "source": [
    "# reset the environment\n",
    "env_info = env.reset(train_mode=True)[brain_name]\n",
    "\n",
    "# number of agents \n",
    "num_agents = len(env_info.agents)\n",
    "print('Number of agents:', num_agents)\n",
    "\n",
    "# size of each action\n",
    "action_size = brain.vector_action_space_size\n",
    "print('Size of each action:', action_size)\n",
    "\n",
    "# examine the state space \n",
    "states = env_info.vector_observations\n",
    "state_size = states.shape[1]\n",
    "print('There are {} agents. Each observes a state with length: {}'.format(states.shape[0], state_size))\n",
    "print('The state for the first agent looks like:', states[0])"
   ]
  },
  {
   "cell_type": "markdown",
   "metadata": {},
   "source": [
    "### 3. Take Random Actions in the Environment\n",
    "\n",
    "In the next code cell, you will learn how to use the Python API to control the agents and receive feedback from the environment.\n",
    "\n",
    "Once this cell is executed, you will watch the agents' performance, if they select actions at random with each time step.  A window should pop up that allows you to observe the agents.\n",
    "\n",
    "Of course, as part of the project, you'll have to change the code so that the agents are able to use their experiences to gradually choose better actions when interacting with the environment!"
   ]
  },
  {
   "cell_type": "code",
   "execution_count": 5,
   "metadata": {},
   "outputs": [
    {
     "name": "stdout",
     "output_type": "stream",
     "text": [
      "Score (max over agents) from episode 1: 0.0\n",
      "Score (max over agents) from episode 2: 0.0\n",
      "Score (max over agents) from episode 3: 0.09000000171363354\n",
      "Score (max over agents) from episode 4: 0.09000000171363354\n",
      "Score (max over agents) from episode 5: 0.0\n"
     ]
    }
   ],
   "source": [
    "for i in range(1, 6):                                      # play game for 5 episodes\n",
    "    env_info = env.reset(train_mode=False)[brain_name]     # reset the environment    \n",
    "    states = env_info.vector_observations                  # get the current state (for each agent)\n",
    "    scores = np.zeros(num_agents)                          # initialize the score (for each agent)\n",
    "    while True:\n",
    "        actions = np.random.randn(num_agents, action_size) # select an action (for each agent)\n",
    "        actions = np.clip(actions, -1, 1)                  # all actions between -1 and 1\n",
    "        env_info = env.step(actions)[brain_name]           # send all actions to tne environment\n",
    "        next_states = env_info.vector_observations         # get next state (for each agent)\n",
    "        rewards = env_info.rewards                         # get reward (for each agent)\n",
    "        dones = env_info.local_done                        # see if episode finished\n",
    "        scores += env_info.rewards                         # update the score (for each agent)\n",
    "        states = next_states                               # roll over states to next time step\n",
    "        if np.any(dones):                                  # exit loop if episode finished\n",
    "            break\n",
    "    print('Score (max over agents) from episode {}: {}'.format(i, np.max(scores)))"
   ]
  },
  {
   "cell_type": "markdown",
   "metadata": {},
   "source": [
    "When finished, you can close the environment."
   ]
  },
  {
   "cell_type": "code",
   "execution_count": 6,
   "metadata": {},
   "outputs": [],
   "source": [
    "#env.close()"
   ]
  },
  {
   "cell_type": "markdown",
   "metadata": {},
   "source": [
    "### 4. It's Your Turn!\n",
    "\n",
    "Now it's your turn to train your own agent to solve the environment!  When training the environment, set `train_mode=True`, so that the line for resetting the environment looks like the following:\n",
    "```python\n",
    "env_info = env.reset(train_mode=True)[brain_name]\n",
    "```"
   ]
  },
  {
   "cell_type": "code",
   "execution_count": 7,
   "metadata": {},
   "outputs": [],
   "source": [
    "import torch\n",
    "from collections import deque\n",
    "from random import random\n",
    "\n",
    "import threading\n",
    "from time import sleep, time, strftime, gmtime\n",
    "\n",
    "import matplotlib.pyplot as plt\n",
    "\n",
    "from ddpg_agent import Agent, ReplayBuffer"
   ]
  },
  {
   "cell_type": "code",
   "execution_count": 8,
   "metadata": {},
   "outputs": [],
   "source": [
    "class Params:\n",
    "    def __init__(self):\n",
    "        self.NUM_AGENTS = num_agents # Number of agents\n",
    "        self.STATE_SIZE = state_size # Size of the state\n",
    "        self.ACTION_SIZE = action_size # Size of actions        \n",
    "        self.BUFFER_SIZE = int(5e5)  # replay buffer size\n",
    "        self.BATCH_SIZE = 512        # minibatch size\n",
    "        self.GAMMA = 0.99            # discount factor\n",
    "        self.TAU = 1e-3              # for soft update of target parameters\n",
    "        self.LR_ACTOR = 1e-4         # learning rate of the actor \n",
    "        self.LR_CRITIC = 1e-3        # learning rate of the critic\n",
    "        self.WEIGHT_DECAY_ACTOR = 0  # L2 weight decay for the actor\n",
    "        self.WEIGHT_DECAY_CRITIC = 0 # L2 weight decay for the critic\n",
    "\n",
    "        self.NOISE_THETA=0.15        # Theta for noise\n",
    "        self.NOISE_SIGMA=0.2         # Sigma for noise        \n",
    "        \n",
    "        self.SEED = 1\n",
    "        \n",
    "params = Params()"
   ]
  },
  {
   "cell_type": "code",
   "execution_count": 9,
   "metadata": {},
   "outputs": [],
   "source": [
    "agent = Agent(params)\n",
    "memory = ReplayBuffer(num_agents = params.NUM_AGENTS, buffer_size = params.BUFFER_SIZE, seed = params.SEED)\n",
    "\n",
    "run_training = True"
   ]
  },
  {
   "cell_type": "code",
   "execution_count": 10,
   "metadata": {},
   "outputs": [],
   "source": [
    "def train(experiences):\n",
    "    \"\"\"Update policy and value parameters using given batch of experience tuples.\n",
    "    Q_targets = r + γ * critic_target(next_state, actor_target(next_state))\n",
    "    where:\n",
    "        actor_target(state) -> action\n",
    "        critic_target(state, action) -> Q-value\n",
    "        \n",
    "    It updates paramteres for all agents and all actor/critic networks\n",
    "\n",
    "    Params\n",
    "    ======\n",
    "        experiences - one memory sample\n",
    "    \"\"\"\n",
    "\n",
    "    states0, actions0, rewards0, next_states0, dones0 = experiences[0]\n",
    "    states1, actions1, rewards1, next_states1, dones1 = experiences[1]\n",
    "\n",
    "    # Get predicted next-state actions\n",
    "    with torch.no_grad():\n",
    "        next_actions0 = agent.actor_target(next_states0)\n",
    "        next_actions1 = agent.actor_target(next_states1)\n",
    "    \n",
    "    \n",
    "    if True:#random() < 0.5: # Agent1 perspective     \n",
    "        agent.learn(states0, actions0, rewards0, next_states0, dones0,\n",
    "                    next_actions0,\n",
    "                    states1, actions1, next_states1, \n",
    "                    next_actions1, \n",
    "                   )\n",
    "    if True: # Agent 2 perspective\n",
    "        agent.learn(states1, actions1, rewards1, next_states1, dones1,\n",
    "                    next_actions1,\n",
    "                    states0, actions0, next_states0, \n",
    "                    next_actions0\n",
    "                   )\n",
    "    "
   ]
  },
  {
   "cell_type": "code",
   "execution_count": 11,
   "metadata": {},
   "outputs": [],
   "source": [
    "def train_agent():\n",
    "    exp_time = 0\n",
    "    learn_time = 0\n",
    "    while True:\n",
    "        if len(memory) > params.BATCH_SIZE:\n",
    "            break\n",
    "        sleep(1)\n",
    "\n",
    "    while run_training:\n",
    "        experiences = memory.sample(params.BATCH_SIZE)\n",
    "        \n",
    "        train(experiences)\n",
    "        agent.learning_step += 1\n",
    "\n",
    "    print (\"Training agent done!\")    \n",
    "    "
   ]
  },
  {
   "cell_type": "code",
   "execution_count": 12,
   "metadata": {},
   "outputs": [],
   "source": [
    "def generate_episodes(n_episodes=10000, scores_threshold = 2.0, max_train_time = 3600,\n",
    "                      print_every=100, save_every=1000,\n",
    "                      noise_max = 0.1, noise_min = 0.05, min_noise_level = 1.5):\n",
    "    \"\"\"\n",
    "    Arguments:\n",
    "        n_episodes       - number of episodes\n",
    "        scores_threshold - score threshold that shows when to stop the training\n",
    "        max_train_time   - maximum trainnig duration (in seconds)\n",
    "        print_every      - how often the information shall be printed (n. of episodes)\n",
    "        save_every       - how often the models shall be saved (n. of episodes)\n",
    "        noise_max        - maximum sigma for noise generation\n",
    "        noise_min        - minimum sigma for noise generation\n",
    "        min_noise_level  - averaged score that corresponds to minimum sigma for noise generation\n",
    "    \"\"\"\n",
    "    \n",
    "    global run_training\n",
    "    \n",
    "    t = time()\n",
    "    scores_deque = deque(maxlen=100)\n",
    "    scores = []\n",
    "    scores_mean = 0\n",
    "    \n",
    "    env_step = 0\n",
    "    noise_sigma = noise_max\n",
    "    \n",
    "    print ('Running experiments...')\n",
    "    \n",
    "    i_episode = 0\n",
    "    while ((i_episode <= n_episodes) and \n",
    "           (scores_mean < scores_threshold) and\n",
    "           (time() - t < max_train_time)):\n",
    "           \n",
    "        i_episode += 1\n",
    "        #train_mode = i_episode % save_every != 0\n",
    "        train_mode = True\n",
    "        env_info = env.reset(train_mode=train_mode)[brain_name]   \n",
    "        states = env_info.vector_observations      \n",
    "        ep_scores = np.zeros(params.NUM_AGENTS)\n",
    "        #agent.reset() # needed only with OU noise\n",
    "        while True:\n",
    "            actions_ag1 = agent.act(states[0], add_noise='rand', sigma = noise_sigma)\n",
    "            actions_ag2 = agent.act(states[1], add_noise='rand', sigma = noise_sigma)\n",
    "            env_info = env.step(np.concatenate((actions_ag1, actions_ag2), axis=0))[brain_name]\n",
    "            actions = np.vstack((actions_ag1, actions_ag2))\n",
    "            next_states = env_info.vector_observations        \n",
    "            rewards = env_info.rewards                       \n",
    "            dones = env_info.local_done \n",
    "            memory.add(states, actions, rewards, next_states, dones)\n",
    "            states = next_states\n",
    "            ep_scores += rewards\n",
    "            env_step += 1          \n",
    "            \n",
    "            if np.any(dones):\n",
    "                break \n",
    "            \n",
    "        score = max(ep_scores)\n",
    "        \n",
    "        scores_deque.append(score)\n",
    "        scores.append(score)\n",
    "        \n",
    "        scores_mean = np.mean(scores_deque)\n",
    "        \n",
    "        \n",
    "        print('\\rEpisode {:,}\\tEnv steps/Learning step: {:.2f}\\tSigma: {:.2f}\\tAvg. Score: {:.2f} ({}s)'.format(\n",
    "            i_episode, (env_step/agent.learning_step if agent.learning_step > 0 else np.inf),\n",
    "            noise_sigma, scores_mean,\n",
    "            strftime('%H:%M:%S', gmtime(time() - t))\n",
    "        ), end=\"\")\n",
    "        \n",
    "        noise_sigma = noise_min + max(0, min_noise_level - scores_mean) * (noise_max - noise_min) / min_noise_level\n",
    "        \n",
    "        if i_episode % print_every == 0:\n",
    "            print('\\rEpisode {:,}\\tEnv steps/Learning step: {:.2f}\\tSigma: {:.2f}\\tAvg. Score: {:.2f} ({}s)'.format(\n",
    "                i_episode, (env_step/agent.learning_step if agent.learning_step > 0 else np.inf),\n",
    "                noise_sigma, scores_mean,\n",
    "                strftime('%H:%M:%S', gmtime(time() - t))\n",
    "            ))\n",
    "\n",
    "        if i_episode % save_every == 0:\n",
    "            torch.save(agent.actor_local.state_dict(), './models/checkpoint_actor_{}.pth'.format(i_episode))\n",
    "            torch.save(agent.critic_local.state_dict(), './models/checkpoint_critic_{}.pth'.format(i_episode))\n",
    "    \n",
    "    torch.save(agent.actor_local.state_dict(), './models/checkpoint_actor.pth')\n",
    "    torch.save(agent.critic_local.state_dict(), './models/checkpoint_critic.pth')    \n",
    "    \n",
    "    run_training = False\n",
    "           \n",
    "    print ('\\n{:,} experiences were added to replay buffer.'.format(env_step))\n",
    "    return scores"
   ]
  },
  {
   "cell_type": "code",
   "execution_count": 13,
   "metadata": {},
   "outputs": [
    {
     "name": "stdout",
     "output_type": "stream",
     "text": [
      "Running experiments...\n",
      "Episode 100\tEnv steps/Learning step: 16.24\tSigma: 0.10\tAvg. Score: 0.00 (00:00:11s)\n",
      "Episode 200\tEnv steps/Learning step: 11.97\tSigma: 0.10\tAvg. Score: 0.00 (00:00:23s)\n",
      "Episode 300\tEnv steps/Learning step: 10.83\tSigma: 0.10\tAvg. Score: 0.01 (00:00:36s)\n",
      "Episode 400\tEnv steps/Learning step: 10.25\tSigma: 0.10\tAvg. Score: 0.04 (00:00:54s)\n",
      "Episode 500\tEnv steps/Learning step: 10.07\tSigma: 0.10\tAvg. Score: 0.00 (00:01:06s)\n",
      "Episode 600\tEnv steps/Learning step: 9.95\tSigma: 0.10\tAvg. Score: 0.00 (00:01:17s))\n",
      "Episode 700\tEnv steps/Learning step: 9.85\tSigma: 0.10\tAvg. Score: 0.00 (00:01:29s)\n",
      "Episode 800\tEnv steps/Learning step: 9.79\tSigma: 0.10\tAvg. Score: 0.00 (00:01:41s)\n",
      "Episode 900\tEnv steps/Learning step: 9.74\tSigma: 0.10\tAvg. Score: 0.00 (00:01:53s)\n",
      "Episode 1,000\tEnv steps/Learning step: 9.68\tSigma: 0.10\tAvg. Score: 0.04 (00:02:14s)\n",
      "Episode 1,100\tEnv steps/Learning step: 9.65\tSigma: 0.10\tAvg. Score: 0.00 (00:02:26s)\n",
      "Episode 1,200\tEnv steps/Learning step: 9.64\tSigma: 0.10\tAvg. Score: 0.00 (00:02:38s)\n",
      "Episode 1,300\tEnv steps/Learning step: 9.61\tSigma: 0.10\tAvg. Score: 0.00 (00:02:50s)\n",
      "Episode 1,400\tEnv steps/Learning step: 9.62\tSigma: 0.10\tAvg. Score: 0.00 (00:03:03s)\n",
      "Episode 1,500\tEnv steps/Learning step: 9.62\tSigma: 0.10\tAvg. Score: 0.01 (00:03:18s)\n",
      "Episode 1,600\tEnv steps/Learning step: 9.60\tSigma: 0.10\tAvg. Score: 0.03 (00:03:35s)\n",
      "Episode 1,700\tEnv steps/Learning step: 9.57\tSigma: 0.10\tAvg. Score: 0.05 (00:03:59s)\n",
      "Episode 1,800\tEnv steps/Learning step: 9.55\tSigma: 0.10\tAvg. Score: 0.10 (00:04:33s)\n",
      "Episode 1,900\tEnv steps/Learning step: 9.54\tSigma: 0.09\tAvg. Score: 0.18 (00:05:34s)\n",
      "Episode 2,000\tEnv steps/Learning step: 9.53\tSigma: 0.10\tAvg. Score: 0.00 (00:05:47s)\n",
      "Episode 2,100\tEnv steps/Learning step: 9.53\tSigma: 0.10\tAvg. Score: 0.02 (00:06:04s)\n",
      "Episode 2,200\tEnv steps/Learning step: 9.52\tSigma: 0.10\tAvg. Score: 0.02 (00:06:19s)\n",
      "Episode 2,300\tEnv steps/Learning step: 9.52\tSigma: 0.10\tAvg. Score: 0.02 (00:06:33s)\n",
      "Episode 2,400\tEnv steps/Learning step: 9.52\tSigma: 0.10\tAvg. Score: 0.06 (00:06:54s)\n",
      "Episode 2,500\tEnv steps/Learning step: 9.52\tSigma: 0.10\tAvg. Score: 0.06 (00:07:14s)\n",
      "Episode 2,600\tEnv steps/Learning step: 9.53\tSigma: 0.10\tAvg. Score: 0.09 (00:07:40s)\n",
      "Episode 2,700\tEnv steps/Learning step: 9.54\tSigma: 0.10\tAvg. Score: 0.10 (00:08:05s)\n",
      "Episode 2,800\tEnv steps/Learning step: 9.54\tSigma: 0.10\tAvg. Score: 0.10 (00:08:32s)\n",
      "Episode 2,900\tEnv steps/Learning step: 9.54\tSigma: 0.10\tAvg. Score: 0.11 (00:09:04s)\n",
      "Episode 3,000\tEnv steps/Learning step: 9.54\tSigma: 0.09\tAvg. Score: 0.17 (00:09:53s)\n",
      "Episode 3,100\tEnv steps/Learning step: 9.54\tSigma: 0.10\tAvg. Score: 0.14 (00:10:36s)\n",
      "Episode 3,200\tEnv steps/Learning step: 9.54\tSigma: 0.10\tAvg. Score: 0.08 (00:11:06s)\n",
      "Episode 3,300\tEnv steps/Learning step: 9.55\tSigma: 0.09\tAvg. Score: 0.30 (00:12:42s)\n",
      "Episode 3,400\tEnv steps/Learning step: 9.54\tSigma: 0.09\tAvg. Score: 0.36 (00:14:44s)\n",
      "Episode 3,500\tEnv steps/Learning step: 9.54\tSigma: 0.09\tAvg. Score: 0.22 (00:16:00s)\n",
      "Episode 3,600\tEnv steps/Learning step: 9.55\tSigma: 0.09\tAvg. Score: 0.17 (00:16:57s)\n",
      "Episode 3,700\tEnv steps/Learning step: 9.55\tSigma: 0.09\tAvg. Score: 0.19 (00:17:54s)\n",
      "Episode 3,800\tEnv steps/Learning step: 9.56\tSigma: 0.06\tAvg. Score: 1.35 (00:25:25s)\n",
      "Episode 3,837\tEnv steps/Learning step: 9.54\tSigma: 0.05\tAvg. Score: 2.01 (00:29:43s)211,085 experiences were added to replay buffer.\n"
     ]
    },
    {
     "data": {
      "image/png": "[encoded data removed]",
      "text/plain": [
       "<Figure size 432x288 with 1 Axes>"
      ]
     },
     "metadata": {
      "needs_background": "light"
     },
     "output_type": "display_data"
    },
    {
     "name": "stdout",
     "output_type": "stream",
     "text": [
      "Training agent done!\n"
     ]
    }
   ],
   "source": [
    "run_training = True\n",
    "t1 = threading.Thread(target=train_agent)\n",
    "t1.start()\n",
    "\n",
    "\n",
    "scores = generate_episodes()\n",
    "\n",
    "fig = plt.figure()\n",
    "ax = fig.add_subplot(111)\n",
    "plt.plot(np.arange(1, len(scores)+1), scores)\n",
    "plt.ylabel('Score')\n",
    "plt.xlabel('Episode #')\n",
    "plt.show()"
   ]
  },
  {
   "cell_type": "code",
   "execution_count": 14,
   "metadata": {},
   "outputs": [],
   "source": [
    "# Saving scores for further analysis\n",
    "import pickle\n",
    "pickle.dump(scores, open('./scores.p', 'wb'))"
   ]
  },
  {
   "cell_type": "code",
   "execution_count": 15,
   "metadata": {},
   "outputs": [
    {
     "name": "stdout",
     "output_type": "stream",
     "text": [
      "Agent performed 22,134 learning steps\n"
     ]
    }
   ],
   "source": [
    "print ('Agent performed {:,} learning steps'.format(agent.learning_step))"
   ]
  },
  {
   "cell_type": "code",
   "execution_count": 16,
   "metadata": {},
   "outputs": [],
   "source": [
    "env.close()"
   ]
  },
  {
   "cell_type": "code",
   "execution_count": 17,
   "metadata": {},
   "outputs": [],
   "source": [
    "pickle.dump(params, open('./params.p', 'wb'))"
   ]
  },
  {
   "cell_type": "code",
   "execution_count": null,
   "metadata": {},
   "outputs": [],
   "source": []
  }
 ],
 "metadata": {
  "kernelspec": {
   "display_name": "Python 3",
   "language": "python",
   "name": "python3"
  },
  "language_info": {
   "codemirror_mode": {
    "name": "ipython",
    "version": 3
   },
   "file_extension": ".py",
   "mimetype": "text/x-python",
   "name": "python",
   "nbconvert_exporter": "python",
   "pygments_lexer": "ipython3",
   "version": "3.7.6"
  }
 },
 "nbformat": 4,
 "nbformat_minor": 4
}
